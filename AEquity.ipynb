{
 "cells": [
  {
   "cell_type": "markdown",
   "metadata": {},
   "source": [
    "# AEquity: A Deep Learning Based Metric for Detecting, Characterizing and Mitigating Dataset Bias"
   ]
  },
  {
   "cell_type": "markdown",
   "metadata": {},
   "source": [
    "## Introduction"
   ]
  },
  {
   "cell_type": "markdown",
   "metadata": {},
   "source": [
    "Today, I'll be demonstrating AEquity. AEquity is a A Deep Learning Based Metric for Detecting, Characterizing and Mitigating Dataset Bias. Below, we show a schematic representation of bias in healthcare. Systemic biases are often replicated into dataset bias. When models are trained on biased datasets, they produced biased predictions. These predictions can recapitulate and perpetuate systemic biases against underserved populations. There are currently two main solutions in practice - Post-hoc technical solutions, and Grassroots Interventions. Post Hoc technical solutions do not work well because they are unable to overcome biased data used to train algorithms, resulting in a trade off between sensitivity and specificity, or group performance and generalizability. Grassroots Interventions are another solution that targets systemic biases, however, these interventions require long-standing changings such as anti-racist policies and patient provider education that take time to implement. A more data-centric approach may help address bias earlier in the process of development of algorithms, while operating on a quicker time scale. We present AEquity (AEq), a sample-efficient deep-learning based metric, that targets dataset bias by measuring the learnability of subsets of data representing underserved populations. Subsequently, we can recommend bias mitigation measures such as collecting more relevant data and selecting more informative outcomes."
   ]
  },
  {
   "cell_type": "markdown",
   "metadata": {},
   "source": [
    "<div>\n",
    "<img src=\"img/Figure-1.png\" width=\"700\"/>\n",
    "</div>"
   ]
  },
  {
   "cell_type": "markdown",
   "metadata": {},
   "source": [
    "## Core concepts behind AEquity\n",
    "\n"
   ]
  },
  {
   "cell_type": "markdown",
   "metadata": {},
   "source": [
    "**AEquity pipeline in practice.** \n",
    "\n",
    "In part A, we show what an ideal dataset might look like. The gray folders represent a single group of individuals, which translates into relatively homogenous input features, and the red and green outlines represent the labels of the dataset. However, most datasets appear like the figure B. In figure B, we have more than one group, represented by the gray and yellow colored folders. When a model is trained on a dataset consisting on individuals from the gray and yellow groups, there may be a different generalization performance in each group. This different generalization performance is how we define bias. \n",
    "\n",
    "In part C, we show how we can use AEq to capture these biases and intervene upon a dataset. AEq calculates a specific value, which has the unit of log(n) samples, with respect to each group and label. Based on these AEq values, we can intervene on the dataset. The two interventions depicted in part D are choosing a more informative label, depicted by switching the outline from red and green to blue and orange, and adding more relevant samples, which we depict as adding a yellow folder. This leads to an improvement in generalizability for the under-represented group. "
   ]
  },
  {
   "cell_type": "markdown",
   "metadata": {},
   "source": [
    "<div>\n",
    "<img src=\"./img/Figure-2.png\" width=\"700\"/>\n",
    "</div>"
   ]
  },
  {
   "cell_type": "markdown",
   "metadata": {},
   "source": [
    "\n",
    "\n",
    "**(A)** The red and green outlines represent the labels. The gray represents a relatively homogenous group. A model is trained on what is thought to be a standard dataset and appears to perform well. \n",
    "\n",
    "**(B)** The red and green outlines represent different labels, while the gray represents the over-represented group while yellow represents the under-represented group. When naively trained in a similar manner on a more diverse dataset, the resulting model is biased because it performs worse for a particular group, because of systematic biases reflected in the data. \n",
    "\n",
    "**(C)** Application of AEquity enables disentanglement of dataset-level roots of the resulting bias. AEq is applied directly to the dataset and can generate values for each group and label. \n",
    "\n",
    "**(D)** Actionable feedback from AEquity reduces bias by improving performance for the disadvantaged group. Two types of actionable feedback are depicted – the blue and orange borders represent the selection of more informative labels. Second, the yellow and gray samples added to the dataset highlight a targeted dataset collection."
   ]
  },
  {
   "cell_type": "markdown",
   "metadata": {},
   "source": [
    "## Application of AEq to Social and Predictive Biases\n"
   ]
  },
  {
   "cell_type": "markdown",
   "metadata": {},
   "source": [
    "In a seminal paper published in *Science*, Obermeyer et al showed that racial bias in cost-predictive algorithms can propagate systemic forms of inequity in healthcare resource allocation. When using cost as the risk-derived metric, Black patients at a given risk score were considerably sicker than their white counterparts. This bias arises because the algorithm predicts health care costs rather than illness, but unequal access to care results in far less money being spent on care for Black patients, even when they are significantly sicker. Post-hoc modifications fail for this example: this bias arises despite using calibration-based fairness metrics and is invariant to including an indicator variable for “race.” Thus, traditional metrics are insufficient to capture the bias. **On switching from a cost-based metric to one that utilizes comorbidities, however, the algorithm was able to mitigate some of the bias.** The remaining bias was determined to be a form of mislabeling, or label bias."
   ]
  },
  {
   "cell_type": "markdown",
   "metadata": {},
   "source": [
    "In this demonstration, we show how we can use AEq to arrive at the same conclusions. However, we can arrive at these conclusions at a sample efficiency of almost *300*. Second, we show how we can use AEq to take concrete steps to mitigate this form of bias from occuring in the future. "
   ]
  },
  {
   "cell_type": "markdown",
   "metadata": {},
   "source": [
    "<div>\n",
    "<img src=\"./img/Figure-5-V2.png\" width=\"700\"/>\n",
    "</div>"
   ]
  },
  {
   "cell_type": "markdown",
   "metadata": {},
   "source": [
    "## Understanding the types of bias\n",
    "\n",
    "AEq can measure three types of bias - sampling bias, complexity bias, and label bias. \n",
    "\n",
    "First, lets discuss how AEq works, and then we can talk about how AEq measures each kind of bias. In this prototypical example, we have a dataset consisting of two groups. Group 1 is colored blue, Group 2 is colored red. AEq measures the learnability of a given group. \n",
    "\n",
    "For example, if a group has relatively few informative features and is relatively homogenous, it will have. a lower AEq. However, if a group has more informative features and is heterogenous, it generally will have a higher AEq. A lower AEq means that it is easier to generalize to a given group and a higher AEq, means that it will be harder to generalize. \n",
    "\n",
    "Now, lets discuss the types of bias. \n",
    "\n",
    "1. Sampling Bias   - **Joint AEq < AEq for either group**.  Here, In group 1, the samples are drawn at lower frequencies, and subsequently each label in the group has a higher AEq value. In group 2, the class labels at are drawn at higher frequencies and have lower AEq values. Higher frequency of sampling resulted in easier generalization, and therefore lower AEq values. When sampling bias was the only type of dataset bias, combining groups drives the AEq value closer to the over-sampled data. Sampling bias is primarily driven by data availability – in dermatology datasets, for example, lighter-skinned populations are generally more represented and therefore have better generalizability that darker-skinned populations.\n",
    "\n",
    "2. Complexity Bias - **Joint AEq > AEq for either group**. Complexity bias was characterized as different groups representing different distributions across the same label. When complexity bias is the only type of dataset bias, combining the groups resulted either in an increase in the value of AEq or an AEq closer to value that had been higher prior to the combination. For example, Hispanic patients with rheumatoid arthritis tend to have a delayed initial presentation to a rheumatologist, and therefore have a greater range of manifestations and severity. As a result, Hispanic individuals present more heterogeneously with rheumatoid arthritis than their counterparts, which makes diagnosis more difficult\n",
    "\n",
    "3. Label Bias - **AEqs are equal between groups**. Labels are not dependent on underlying data complexity. AEqs between groups will be relatively similar during label bias because AEq is relatively label-agnostic. This is often a diagnosis of exclusion - residual bias that leads to differences in generalization despite similar group characterstics must be explained by differences in labelling patterns. Label bias occurs when labels are placed incorrectly at different rates for different groups and can lead to increased misclassification errors for the affected group. For example, Black patients are incorrectly labeled as requiring fewer healthcare resources despite having the same number of comorbidities because of lack of access to care \n",
    "\n",
    "<div>\n",
    "<img src=\"./img/Figure-3-V2.png\" width=\"700\"/>\n",
    "</div>"
   ]
  },
  {
   "cell_type": "markdown",
   "metadata": {},
   "source": [
    "### Inspecting the Dataset\n",
    "\n",
    "I know that was a long intro, but now that we know how to use the tool, using it is going to be a piece of cake. Lets begin by importing and inspecting the data from the Obermeyer paper!"
   ]
  },
  {
   "cell_type": "code",
   "execution_count": 1,
   "metadata": {},
   "outputs": [],
   "source": [
    "import warnings\n",
    "import pandas as pd\n",
    "import seaborn as sns\n",
    "import matplotlib.pyplot as plt\n",
    "warnings.filterwarnings('ignore')\n",
    "warnings.simplefilter(action='ignore', category=FutureWarning)\n",
    "sns.set_theme(style=\"white\", palette=None)"
   ]
  },
  {
   "cell_type": "code",
   "execution_count": 13,
   "metadata": {},
   "outputs": [],
   "source": [
    "df = pd.read_csv(\"./preprocessed_demo_demographics.tsv\", sep=\"\\t\")"
   ]
  },
  {
   "cell_type": "markdown",
   "metadata": {},
   "source": [
    "As you can see, we have a range of different demographic factors, as well as risk scores for features such as alcohol use disorder, anemia, hyperlipidemia, and medications. At the end, we have the columns for the outcomes that we will compare. The first outcome is GAGNE score, which is a measure of commorobidites. Second outcome, is the $log(cost)$ in a given year t. These have already been stratified into high and low-risk categories, where 0 is low risk and 1 is high risk. "
   ]
  },
  {
   "cell_type": "code",
   "execution_count": 14,
   "metadata": {},
   "outputs": [
    {
     "data": {
      "text/html": [
       "<div>\n",
       "<style scoped>\n",
       "    .dataframe tbody tr th:only-of-type {\n",
       "        vertical-align: middle;\n",
       "    }\n",
       "\n",
       "    .dataframe tbody tr th {\n",
       "        vertical-align: top;\n",
       "    }\n",
       "\n",
       "    .dataframe thead th {\n",
       "        text-align: right;\n",
       "    }\n",
       "</style>\n",
       "<table border=\"1\" class=\"dataframe\">\n",
       "  <thead>\n",
       "    <tr style=\"text-align: right;\">\n",
       "      <th></th>\n",
       "      <th>dem_female</th>\n",
       "      <th>dem_age_band_18-24_tm1</th>\n",
       "      <th>dem_age_band_25-34_tm1</th>\n",
       "      <th>dem_age_band_35-44_tm1</th>\n",
       "      <th>dem_age_band_45-54_tm1</th>\n",
       "      <th>dem_age_band_55-64_tm1</th>\n",
       "      <th>dem_age_band_65-74_tm1</th>\n",
       "      <th>dem_age_band_75+_tm1</th>\n",
       "      <th>alcohol_elixhauser_tm1</th>\n",
       "      <th>anemia_elixhauser_tm1</th>\n",
       "      <th>...</th>\n",
       "      <th>trig_max-high_tm1</th>\n",
       "      <th>trig_max-normal_tm1</th>\n",
       "      <th>lasix_dose_count_tm1</th>\n",
       "      <th>lasix_min_daily_dose_tm1</th>\n",
       "      <th>lasix_mean_daily_dose_tm1</th>\n",
       "      <th>lasix_max_daily_dose_tm1</th>\n",
       "      <th>log_cost_t</th>\n",
       "      <th>gagne_sum_t</th>\n",
       "      <th>log_cost_avoidable_t</th>\n",
       "      <th>demographics</th>\n",
       "    </tr>\n",
       "  </thead>\n",
       "  <tbody>\n",
       "    <tr>\n",
       "      <th>0</th>\n",
       "      <td>0.0</td>\n",
       "      <td>0.0</td>\n",
       "      <td>0.0</td>\n",
       "      <td>0.0</td>\n",
       "      <td>1.0</td>\n",
       "      <td>0.0</td>\n",
       "      <td>0.0</td>\n",
       "      <td>0.0</td>\n",
       "      <td>0.0</td>\n",
       "      <td>0.0</td>\n",
       "      <td>...</td>\n",
       "      <td>0.0</td>\n",
       "      <td>0.0</td>\n",
       "      <td>0.0</td>\n",
       "      <td>0.0</td>\n",
       "      <td>0.0</td>\n",
       "      <td>0.0</td>\n",
       "      <td>0</td>\n",
       "      <td>0</td>\n",
       "      <td>0</td>\n",
       "      <td>White</td>\n",
       "    </tr>\n",
       "    <tr>\n",
       "      <th>1</th>\n",
       "      <td>1.0</td>\n",
       "      <td>0.0</td>\n",
       "      <td>0.0</td>\n",
       "      <td>0.0</td>\n",
       "      <td>1.0</td>\n",
       "      <td>0.0</td>\n",
       "      <td>0.0</td>\n",
       "      <td>0.0</td>\n",
       "      <td>0.0</td>\n",
       "      <td>0.0</td>\n",
       "      <td>...</td>\n",
       "      <td>0.0</td>\n",
       "      <td>1.0</td>\n",
       "      <td>0.0</td>\n",
       "      <td>0.0</td>\n",
       "      <td>0.0</td>\n",
       "      <td>0.0</td>\n",
       "      <td>0</td>\n",
       "      <td>1</td>\n",
       "      <td>0</td>\n",
       "      <td>White</td>\n",
       "    </tr>\n",
       "    <tr>\n",
       "      <th>2</th>\n",
       "      <td>1.0</td>\n",
       "      <td>0.0</td>\n",
       "      <td>1.0</td>\n",
       "      <td>0.0</td>\n",
       "      <td>0.0</td>\n",
       "      <td>0.0</td>\n",
       "      <td>0.0</td>\n",
       "      <td>0.0</td>\n",
       "      <td>0.0</td>\n",
       "      <td>0.0</td>\n",
       "      <td>...</td>\n",
       "      <td>0.0</td>\n",
       "      <td>0.0</td>\n",
       "      <td>0.0</td>\n",
       "      <td>0.0</td>\n",
       "      <td>0.0</td>\n",
       "      <td>0.0</td>\n",
       "      <td>0</td>\n",
       "      <td>0</td>\n",
       "      <td>0</td>\n",
       "      <td>White</td>\n",
       "    </tr>\n",
       "    <tr>\n",
       "      <th>3</th>\n",
       "      <td>1.0</td>\n",
       "      <td>1.0</td>\n",
       "      <td>0.0</td>\n",
       "      <td>0.0</td>\n",
       "      <td>0.0</td>\n",
       "      <td>0.0</td>\n",
       "      <td>0.0</td>\n",
       "      <td>0.0</td>\n",
       "      <td>0.0</td>\n",
       "      <td>0.0</td>\n",
       "      <td>...</td>\n",
       "      <td>0.0</td>\n",
       "      <td>0.0</td>\n",
       "      <td>0.0</td>\n",
       "      <td>0.0</td>\n",
       "      <td>0.0</td>\n",
       "      <td>0.0</td>\n",
       "      <td>0</td>\n",
       "      <td>0</td>\n",
       "      <td>0</td>\n",
       "      <td>White</td>\n",
       "    </tr>\n",
       "    <tr>\n",
       "      <th>4</th>\n",
       "      <td>1.0</td>\n",
       "      <td>0.0</td>\n",
       "      <td>0.0</td>\n",
       "      <td>0.0</td>\n",
       "      <td>0.0</td>\n",
       "      <td>1.0</td>\n",
       "      <td>0.0</td>\n",
       "      <td>0.0</td>\n",
       "      <td>0.0</td>\n",
       "      <td>0.0</td>\n",
       "      <td>...</td>\n",
       "      <td>0.0</td>\n",
       "      <td>0.0</td>\n",
       "      <td>0.0</td>\n",
       "      <td>0.0</td>\n",
       "      <td>0.0</td>\n",
       "      <td>0.0</td>\n",
       "      <td>0</td>\n",
       "      <td>0</td>\n",
       "      <td>0</td>\n",
       "      <td>White</td>\n",
       "    </tr>\n",
       "  </tbody>\n",
       "</table>\n",
       "<p>5 rows × 153 columns</p>\n",
       "</div>"
      ],
      "text/plain": [
       "   dem_female  dem_age_band_18-24_tm1  dem_age_band_25-34_tm1  \\\n",
       "0         0.0                     0.0                     0.0   \n",
       "1         1.0                     0.0                     0.0   \n",
       "2         1.0                     0.0                     1.0   \n",
       "3         1.0                     1.0                     0.0   \n",
       "4         1.0                     0.0                     0.0   \n",
       "\n",
       "   dem_age_band_35-44_tm1  dem_age_band_45-54_tm1  dem_age_band_55-64_tm1  \\\n",
       "0                     0.0                     1.0                     0.0   \n",
       "1                     0.0                     1.0                     0.0   \n",
       "2                     0.0                     0.0                     0.0   \n",
       "3                     0.0                     0.0                     0.0   \n",
       "4                     0.0                     0.0                     1.0   \n",
       "\n",
       "   dem_age_band_65-74_tm1  dem_age_band_75+_tm1  alcohol_elixhauser_tm1  \\\n",
       "0                     0.0                   0.0                     0.0   \n",
       "1                     0.0                   0.0                     0.0   \n",
       "2                     0.0                   0.0                     0.0   \n",
       "3                     0.0                   0.0                     0.0   \n",
       "4                     0.0                   0.0                     0.0   \n",
       "\n",
       "   anemia_elixhauser_tm1  ...  trig_max-high_tm1  trig_max-normal_tm1  \\\n",
       "0                    0.0  ...                0.0                  0.0   \n",
       "1                    0.0  ...                0.0                  1.0   \n",
       "2                    0.0  ...                0.0                  0.0   \n",
       "3                    0.0  ...                0.0                  0.0   \n",
       "4                    0.0  ...                0.0                  0.0   \n",
       "\n",
       "   lasix_dose_count_tm1  lasix_min_daily_dose_tm1  lasix_mean_daily_dose_tm1  \\\n",
       "0                   0.0                       0.0                        0.0   \n",
       "1                   0.0                       0.0                        0.0   \n",
       "2                   0.0                       0.0                        0.0   \n",
       "3                   0.0                       0.0                        0.0   \n",
       "4                   0.0                       0.0                        0.0   \n",
       "\n",
       "   lasix_max_daily_dose_tm1  log_cost_t  gagne_sum_t  log_cost_avoidable_t  \\\n",
       "0                       0.0           0            0                     0   \n",
       "1                       0.0           0            1                     0   \n",
       "2                       0.0           0            0                     0   \n",
       "3                       0.0           0            0                     0   \n",
       "4                       0.0           0            0                     0   \n",
       "\n",
       "   demographics  \n",
       "0         White  \n",
       "1         White  \n",
       "2         White  \n",
       "3         White  \n",
       "4         White  \n",
       "\n",
       "[5 rows x 153 columns]"
      ]
     },
     "execution_count": 14,
     "metadata": {},
     "output_type": "execute_result"
    }
   ],
   "source": [
    "df.head()"
   ]
  },
  {
   "cell_type": "markdown",
   "metadata": {},
   "source": [
    "Here, we conduct a simple exploratory data analysis, and we see that the dataset is imbalanced for white patients over black patients and females over males. We will primarily focus on comparing the AEq values for black and white patients, but this tool can be used for any demographic and for intersectional identities, which are often at an even greater risk for systemic biases."
   ]
  },
  {
   "cell_type": "code",
   "execution_count": 15,
   "metadata": {},
   "outputs": [
    {
     "data": {
      "text/plain": [
       "67.04970082217106"
      ]
     },
     "execution_count": 15,
     "metadata": {},
     "output_type": "execute_result"
    }
   ],
   "source": [
    "df['dem_age_band_18-24_tm1'].sum() * 20 \n",
    "\n",
    "cols = ['dem_age_band_18-24_tm1', 'dem_age_band_25-34_tm1', 'dem_age_band_35-44_tm1', 'dem_age_band_45-54_tm1', 'dem_age_band_55-64_tm1', 'dem_age_band_65-74_tm1', 'dem_age_band_75+_tm1']\n",
    "values = [20, 30, 40, 50, 60, 70, 80]\n",
    "\n",
    "list_ages = list()\n",
    "for col, value in zip(cols, values):\n",
    "    vals = [value for i in range(int(df[col].sum()))]\n",
    "    list_ages.extend(vals)\n",
    "\n",
    "import numpy as np\n",
    "np.mean(list_ages) + np.std(list_ages)"
   ]
  },
  {
   "cell_type": "code",
   "execution_count": 18,
   "metadata": {},
   "outputs": [
    {
     "data": {
      "text/html": [
       "<div>\n",
       "<style scoped>\n",
       "    .dataframe tbody tr th:only-of-type {\n",
       "        vertical-align: middle;\n",
       "    }\n",
       "\n",
       "    .dataframe tbody tr th {\n",
       "        vertical-align: top;\n",
       "    }\n",
       "\n",
       "    .dataframe thead th {\n",
       "        text-align: right;\n",
       "    }\n",
       "</style>\n",
       "<table border=\"1\" class=\"dataframe\">\n",
       "  <thead>\n",
       "    <tr style=\"text-align: right;\">\n",
       "      <th></th>\n",
       "      <th>count</th>\n",
       "      <th>Sex</th>\n",
       "      <th>Race</th>\n",
       "    </tr>\n",
       "  </thead>\n",
       "  <tbody>\n",
       "    <tr>\n",
       "      <th>0</th>\n",
       "      <td>1896</td>\n",
       "      <td>Male</td>\n",
       "      <td>Black</td>\n",
       "    </tr>\n",
       "    <tr>\n",
       "      <th>1</th>\n",
       "      <td>3686</td>\n",
       "      <td>Female</td>\n",
       "      <td>Black</td>\n",
       "    </tr>\n",
       "    <tr>\n",
       "      <th>2</th>\n",
       "      <td>16125</td>\n",
       "      <td>Male</td>\n",
       "      <td>White</td>\n",
       "    </tr>\n",
       "    <tr>\n",
       "      <th>3</th>\n",
       "      <td>27077</td>\n",
       "      <td>Female</td>\n",
       "      <td>White</td>\n",
       "    </tr>\n",
       "  </tbody>\n",
       "</table>\n",
       "</div>"
      ],
      "text/plain": [
       "   count     Sex   Race\n",
       "0   1896    Male  Black\n",
       "1   3686  Female  Black\n",
       "2  16125    Male  White\n",
       "3  27077  Female  White"
      ]
     },
     "execution_count": 18,
     "metadata": {},
     "output_type": "execute_result"
    }
   ],
   "source": [
    "summmary_demographics = pd.DataFrame(df.groupby(['demographics', 'dem_female']).size())\n",
    "summmary_demographics.reset_index(inplace=True)\n",
    "summmary_demographics['count'] = summmary_demographics[0]\n",
    "\n",
    "def assign_sex(value):\n",
    "    if(value == 0): return \"Male\"\n",
    "    else: return \"Female\"\n",
    "\n",
    "summmary_demographics['Sex'] =  summmary_demographics['dem_female'].apply(assign_sex)\n",
    "summmary_demographics['Race'] =  summmary_demographics['demographics']\n",
    "summmary_demographics.drop(['demographics', 'dem_female', 0], axis=1, inplace=True)\n",
    "\n",
    "summmary_demographics.head()"
   ]
  },
  {
   "cell_type": "code",
   "execution_count": 19,
   "metadata": {},
   "outputs": [
    {
     "data": {
      "image/png": "[encoded data removed]",
      "text/plain": [
       "<Figure size 705.875x600 with 1 Axes>"
      ]
     },
     "metadata": {},
     "output_type": "display_data"
    }
   ],
   "source": [
    "g = sns.catplot(\n",
    "    data=summmary_demographics, kind=\"bar\",\n",
    "    x=\"Race\", y=\"count\", hue=\"Sex\", palette=\"dark\", alpha=.6, height=6\n",
    ")"
   ]
  },
  {
   "cell_type": "code",
   "execution_count": 10,
   "metadata": {},
   "outputs": [],
   "source": [
    "outcome_columns = ['log_cost_t', 'gagne_sum_t']"
   ]
  },
  {
   "cell_type": "markdown",
   "metadata": {},
   "source": [
    "## Measure Biases"
   ]
  },
  {
   "cell_type": "markdown",
   "metadata": {},
   "source": [
    "1. Install requirements.\n",
    "\n",
    "These requirements are publicly sourced such as \n",
    "\n",
    "```{bash}\n",
    "sklearn\n",
    "torch\n",
    "scipy\n",
    "torchvision\n",
    "pandas\n",
    "```\n",
    "\n",
    "```{bash}\n",
    "pip install requirements.txt\n",
    "```\n",
    "And are also privately sourced: mainly cnnMCSE. "
   ]
  },
  {
   "cell_type": "code",
   "execution_count": 20,
   "metadata": {},
   "outputs": [],
   "source": [
    "from aequity.predict import measure_disparity_custom"
   ]
  },
  {
   "cell_type": "markdown",
   "metadata": {},
   "source": [
    "2. Setup config file in a config.yaml file.\n",
    "\n",
    "```{yaml}\n",
    "# Contains path to data. Contains independent variables, demographics, and outcome variables. \n",
    "dataset_path: ./preprocessed_demo_demographics.tsv \n",
    "\n",
    "# Name of demographics variable in dataset.\n",
    "demographics_cols: demographics\n",
    "\n",
    "# Name of outcome variable in data_path\n",
    "outcome_cols: log_cost_t, gagne_sum_t  \n",
    "\n",
    "# Name of columns to exclude when calculating AEq (irrelevant outcome columns).  \n",
    "exclude_cols: log_cost_avoidable_t \n",
    "\n",
    "# Output directory for AEq analyses. \n",
    "root_dir: ./measure   \n",
    "\n",
    "# Model type. Can select more complex models for more complex tasks. \n",
    "models: A3,FCN \n",
    "\n",
    "# Input Dimension\n",
    "input_dim: 149 \n",
    "\n",
    "# Hidden dimension hyper-parameter\n",
    "hidden_size: 64 \n",
    "\n",
    "# Use this function for more complicated image-based models like ResNet or AlexNet. \n",
    "zoo_models: None \n",
    "\n",
    "# Max sample size to calculate from. Usually only require 128-512 samples. \n",
    "max_sample_size: 5000 \n",
    "\n",
    "# Number of bootstraps. 30-50 is typically recommended for resolution at 5000 samples. \n",
    "n_bootstraps: 5 \n",
    "\n",
    "# Batch size. Increase in larger computers. Built with GPU-support, and multi-threaded processing.\n",
    "batch_size: 1 \n",
    "```"
   ]
  },
  {
   "cell_type": "code",
   "execution_count": 22,
   "metadata": {},
   "outputs": [
    {
     "name": "stdout",
     "output_type": "stream",
     "text": [
      "CPU times: user 2min 39s, sys: 3.36 s, total: 2min 42s\n",
      "Wall time: 2min 43s\n"
     ]
    }
   ],
   "source": [
    "%%time\n",
    "measure_disparity_custom(\n",
    "    dataset_path = \"./preprocessed_demo_demographics.tsv\",\n",
    "    demographics_cols = \"demographics\",\n",
    "    outcome_cols = \"log_cost_t,gagne_sum_t\",\n",
    "    exclude_cols = \"log_cost_avoidable_t,demographics\",\n",
    "    models = \"A3,FCN\",\n",
    "    n_bootstraps = 5,\n",
    "    batch_size = 1,\n",
    "    start_seed = 42,\n",
    "    input_dim = 149,\n",
    "    hidden_size = 64,\n",
    "    max_sample_size = 5000,\n",
    "    root_dir = \"./measure\"\n",
    ")"
   ]
  },
  {
   "cell_type": "code",
   "execution_count": 23,
   "metadata": {},
   "outputs": [
    {
     "data": {
      "text/html": [
       "<div>\n",
       "<style scoped>\n",
       "    .dataframe tbody tr th:only-of-type {\n",
       "        vertical-align: middle;\n",
       "    }\n",
       "\n",
       "    .dataframe tbody tr th {\n",
       "        vertical-align: top;\n",
       "    }\n",
       "\n",
       "    .dataframe thead th {\n",
       "        text-align: right;\n",
       "    }\n",
       "</style>\n",
       "<table border=\"1\" class=\"dataframe\">\n",
       "  <thead>\n",
       "    <tr style=\"text-align: right;\">\n",
       "      <th></th>\n",
       "      <th>aeq_mean</th>\n",
       "      <th>aeq_sd</th>\n",
       "      <th>demographics</th>\n",
       "      <th>outcome</th>\n",
       "      <th>risk</th>\n",
       "    </tr>\n",
       "  </thead>\n",
       "  <tbody>\n",
       "    <tr>\n",
       "      <th>0</th>\n",
       "      <td>7.0</td>\n",
       "      <td>0.016667</td>\n",
       "      <td>Black</td>\n",
       "      <td>gagne_sum_t</td>\n",
       "      <td>Low-Risk</td>\n",
       "    </tr>\n",
       "    <tr>\n",
       "      <th>1</th>\n",
       "      <td>7.2</td>\n",
       "      <td>0.029814</td>\n",
       "      <td>Black</td>\n",
       "      <td>gagne_sum_t</td>\n",
       "      <td>High-Risk</td>\n",
       "    </tr>\n",
       "    <tr>\n",
       "      <th>2</th>\n",
       "      <td>6.2</td>\n",
       "      <td>0.007454</td>\n",
       "      <td>Black</td>\n",
       "      <td>log_cost_t</td>\n",
       "      <td>Low-Risk</td>\n",
       "    </tr>\n",
       "    <tr>\n",
       "      <th>3</th>\n",
       "      <td>7.2</td>\n",
       "      <td>0.018257</td>\n",
       "      <td>Black</td>\n",
       "      <td>log_cost_t</td>\n",
       "      <td>High-Risk</td>\n",
       "    </tr>\n",
       "    <tr>\n",
       "      <th>4</th>\n",
       "      <td>7.6</td>\n",
       "      <td>0.019003</td>\n",
       "      <td>White</td>\n",
       "      <td>gagne_sum_t</td>\n",
       "      <td>Low-Risk</td>\n",
       "    </tr>\n",
       "    <tr>\n",
       "      <th>5</th>\n",
       "      <td>7.2</td>\n",
       "      <td>0.029814</td>\n",
       "      <td>White</td>\n",
       "      <td>gagne_sum_t</td>\n",
       "      <td>High-Risk</td>\n",
       "    </tr>\n",
       "    <tr>\n",
       "      <th>6</th>\n",
       "      <td>6.6</td>\n",
       "      <td>0.022361</td>\n",
       "      <td>White</td>\n",
       "      <td>log_cost_t</td>\n",
       "      <td>Low-Risk</td>\n",
       "    </tr>\n",
       "    <tr>\n",
       "      <th>7</th>\n",
       "      <td>6.8</td>\n",
       "      <td>0.007454</td>\n",
       "      <td>White</td>\n",
       "      <td>log_cost_t</td>\n",
       "      <td>High-Risk</td>\n",
       "    </tr>\n",
       "    <tr>\n",
       "      <th>8</th>\n",
       "      <td>7.6</td>\n",
       "      <td>0.025276</td>\n",
       "      <td>joint</td>\n",
       "      <td>gagne_sum_t</td>\n",
       "      <td>Low-Risk</td>\n",
       "    </tr>\n",
       "    <tr>\n",
       "      <th>9</th>\n",
       "      <td>6.4</td>\n",
       "      <td>0.014907</td>\n",
       "      <td>joint</td>\n",
       "      <td>gagne_sum_t</td>\n",
       "      <td>High-Risk</td>\n",
       "    </tr>\n",
       "    <tr>\n",
       "      <th>10</th>\n",
       "      <td>6.8</td>\n",
       "      <td>0.013944</td>\n",
       "      <td>joint</td>\n",
       "      <td>log_cost_t</td>\n",
       "      <td>Low-Risk</td>\n",
       "    </tr>\n",
       "    <tr>\n",
       "      <th>11</th>\n",
       "      <td>7.2</td>\n",
       "      <td>0.021731</td>\n",
       "      <td>joint</td>\n",
       "      <td>log_cost_t</td>\n",
       "      <td>High-Risk</td>\n",
       "    </tr>\n",
       "  </tbody>\n",
       "</table>\n",
       "</div>"
      ],
      "text/plain": [
       "    aeq_mean    aeq_sd demographics      outcome       risk\n",
       "0        7.0  0.016667        Black  gagne_sum_t   Low-Risk\n",
       "1        7.2  0.029814        Black  gagne_sum_t  High-Risk\n",
       "2        6.2  0.007454        Black   log_cost_t   Low-Risk\n",
       "3        7.2  0.018257        Black   log_cost_t  High-Risk\n",
       "4        7.6  0.019003        White  gagne_sum_t   Low-Risk\n",
       "5        7.2  0.029814        White  gagne_sum_t  High-Risk\n",
       "6        6.6  0.022361        White   log_cost_t   Low-Risk\n",
       "7        6.8  0.007454        White   log_cost_t  High-Risk\n",
       "8        7.6  0.025276        joint  gagne_sum_t   Low-Risk\n",
       "9        6.4  0.014907        joint  gagne_sum_t  High-Risk\n",
       "10       6.8  0.013944        joint   log_cost_t   Low-Risk\n",
       "11       7.2  0.021731        joint   log_cost_t  High-Risk"
      ]
     },
     "execution_count": 23,
     "metadata": {},
     "output_type": "execute_result"
    }
   ],
   "source": [
    "metadata = pd.read_csv(\"./measure/metadata.tsv\", sep=\"\\t\")\n",
    "def assign_risk(value):\n",
    "    if(value == 1): return \"High-Risk\"\n",
    "    else: return \"Low-Risk\"\n",
    "    \n",
    "metadata['risk'] = metadata['label'].apply(assign_risk)\n",
    "metadata.drop(['dataset', 'label', 'subset'], axis=1, inplace=True)\n",
    "metadata"
   ]
  },
  {
   "cell_type": "markdown",
   "metadata": {},
   "source": [
    "## Interpretation of AEq.\n",
    "\n",
    "Healthcare-cost allocation is based on the predictions of the high-risk group. Thus, lets look at the high-risk group, which we have colored a light blue in the plot below. \n",
    "Our objective is to (a) determine which outcome we should use, and (b) which data we need to additionally collect and train on in order to provide optimal performance on Black patients. We want to identify and establish both predictive and social biases that are present in the dataset. "
   ]
  },
  {
   "cell_type": "markdown",
   "metadata": {},
   "source": [
    "Lets look at the **log_cost_t** metric first. \n",
    "- We first notice that the AEq value for high-risk Black patients are significant larger than those for high-risk white patients. This indicates that there is some form of predictive bias because a higher AEq value means that generalizability will be worse if we use this outcome. \n",
    "- Second, we notice that the joint AEq value is higher than the AEq value for either White or Black patients. This means that White and Black patients represent different distributions. This is a form of social bias because it means that despite the fact that both of these patients are supposed to be \"high risk\" they are not represented equitably in the underlying dataset. From Obermeiyer, we know that this is true because Black patients that are categorized at high risk have far more commoribidites than their White counterparts. "
   ]
  },
  {
   "cell_type": "markdown",
   "metadata": {},
   "source": [
    "\n",
    "Second, lets look at the **gagne_sum_t** metric. \n",
    "- We first notice that the AEq of White and Black patients are equal. This means that in terms of generalizability, both Black and White patients will have relatively equal generalizability because AEq is a measure of generalizability. Residual biases would only occur with labeling problems because sample distributions are invariant to labels. \n",
    "- Second, we notice that the joint AEq is lower than the AEq of both White and Black patients. This means that both groups of patients are derived from a similar distribution, this means that we've mitigated the complexity bias created by using cost as a label. Both groups of patients are represented equitably in this distribution, and thus the social bias has been mitigated. \n",
    "- Third, training on both subsets will improve the model rather than harm the model. Because the joint AEq is smaller than the AEq for each of the subsets, the generalizability for a dataset consisting of both Black and White patients should be better than a dataset consisting of only Black or White patients."
   ]
  },
  {
   "cell_type": "code",
   "execution_count": 24,
   "metadata": {},
   "outputs": [
    {
     "data": {
      "image/png": "[encoded data removed]",
      "text/plain": [
       "<Figure size 1121.38x500 with 2 Axes>"
      ]
     },
     "metadata": {},
     "output_type": "display_data"
    }
   ],
   "source": [
    "# Return facet-grid. \n",
    "g = sns.FacetGrid(\n",
    "    data=metadata,\n",
    "    col=\"outcome\",\n",
    "    aspect=16/16, height=5\n",
    ")\n",
    "\n",
    "# Return error bar\n",
    "def error_bar_custom(mean_vals):\n",
    "    return (mean_vals - 0.03/5*2, mean_vals+ 0.03/5*2)\n",
    "\n",
    "g.map(\n",
    "    sns.pointplot, 'demographics', 'aeq_mean', hue='risk',\n",
    "    data=metadata, dodge=True, join=False, scale=0.75, errorbar=error_bar_custom\n",
    ").set_axis_labels(y_var=\"AEq\", x_var=\"Demographics\").add_legend()\n",
    "plt.show()"
   ]
  },
  {
   "cell_type": "markdown",
   "metadata": {},
   "source": [
    "## Mitigate Biases.\n",
    "\n",
    "Here we show that careful interpretation of the AEq values can improve generalization performance on a held out test dataset.\n",
    "\n",
    "\n",
    "The two main conclusions that we have arrived at from our AEq analysis are\n",
    "\n",
    "1. **First**, we should use gagne_sum_t, a measure of comorbidites over the log_cost_t, when determining risk. This will mitigate some of the social biases generated by using cost as the outcome variable. \n",
    "\n",
    "2. **Second**, training on a dataset consisting of both Black and White patients, increasing diversity, is better than training on only Black patients.\n",
    "\n"
   ]
  },
  {
   "cell_type": "code",
   "execution_count": 1,
   "metadata": {},
   "outputs": [],
   "source": [
    "from aequity.predict import mitigate_disparity_custom"
   ]
  },
  {
   "cell_type": "code",
   "execution_count": 4,
   "metadata": {},
   "outputs": [
    {
     "name": "stdout",
     "output_type": "stream",
     "text": [
      "CPU times: user 1 µs, sys: 1e+03 ns, total: 2 µs\n",
      "Wall time: 1.91 µs\n"
     ]
    }
   ],
   "source": [
    "%time\n",
    "df, preds_df = mitigate_disparity_custom(\n",
    "    dataset_path='./preprocessed_demo_demographics.tsv',\n",
    "    demographics_cols = \"demographics\",\n",
    "    outcome_cols = \"log_cost_t,gagne_sum_t\",\n",
    "    exclude_cols = \"log_cost_avoidable_t,demographics\",\n",
    "    root_dir = \"./mitigate\",\n",
    "    models = \"A3,FCN\",\n",
    "    input_dim = 149,\n",
    "    hidden_size = 64,\n",
    "    start_seed = 42,\n",
    "    zoo_models = None,\n",
    "    max_sample_size=256,\n",
    "    sampler_mode=None,\n",
    "    frequency=True,\n",
    "    stratified=True,\n",
    "    n_bootstraps=2,\n",
    "    config=None,\n",
    "    log_scale=2, \n",
    "    min_sample_size=128, \n",
    "    absolute_scale=False,\n",
    "    batch_size=1,\n",
    "    shuffle=True,\n",
    "    num_workers=4,\n",
    "    current_dataset=\"custom\",\n",
    "    metric_type=\"sAUC\",\n",
    "    n_classes=2\n",
    ")"
   ]
  },
  {
   "cell_type": "code",
   "execution_count": 8,
   "metadata": {},
   "outputs": [],
   "source": [
    "df = pd.read_csv(\"./mitigate/mitigated.tsv\", sep=\"\\t\")"
   ]
  },
  {
   "cell_type": "code",
   "execution_count": 9,
   "metadata": {},
   "outputs": [
    {
     "data": {
      "text/html": [
       "<div>\n",
       "<style scoped>\n",
       "    .dataframe tbody tr th:only-of-type {\n",
       "        vertical-align: middle;\n",
       "    }\n",
       "\n",
       "    .dataframe tbody tr th {\n",
       "        vertical-align: top;\n",
       "    }\n",
       "\n",
       "    .dataframe thead th {\n",
       "        text-align: right;\n",
       "    }\n",
       "</style>\n",
       "<table border=\"1\" class=\"dataframe\">\n",
       "  <thead>\n",
       "    <tr style=\"text-align: right;\">\n",
       "      <th></th>\n",
       "      <th>label</th>\n",
       "      <th>s_estimands</th>\n",
       "      <th>estimands</th>\n",
       "      <th>bootstrap</th>\n",
       "      <th>sample_size</th>\n",
       "      <th>trainset</th>\n",
       "      <th>testset</th>\n",
       "      <th>demographics_train</th>\n",
       "      <th>outcome_train</th>\n",
       "      <th>subset_train</th>\n",
       "      <th>demographics_test</th>\n",
       "      <th>outcome_test</th>\n",
       "      <th>subset_test</th>\n",
       "    </tr>\n",
       "  </thead>\n",
       "  <tbody>\n",
       "    <tr>\n",
       "      <th>0</th>\n",
       "      <td>0</td>\n",
       "      <td>0.500326</td>\n",
       "      <td>0.715182</td>\n",
       "      <td>0</td>\n",
       "      <td>128</td>\n",
       "      <td>White__log_cost_t__train</td>\n",
       "      <td>White__log_cost_t__test</td>\n",
       "      <td>White</td>\n",
       "      <td>log_cost_t</td>\n",
       "      <td>train</td>\n",
       "      <td>White</td>\n",
       "      <td>log_cost_t</td>\n",
       "      <td>test</td>\n",
       "    </tr>\n",
       "    <tr>\n",
       "      <th>1</th>\n",
       "      <td>1</td>\n",
       "      <td>0.500325</td>\n",
       "      <td>0.715182</td>\n",
       "      <td>0</td>\n",
       "      <td>128</td>\n",
       "      <td>White__log_cost_t__train</td>\n",
       "      <td>White__log_cost_t__test</td>\n",
       "      <td>White</td>\n",
       "      <td>log_cost_t</td>\n",
       "      <td>train</td>\n",
       "      <td>White</td>\n",
       "      <td>log_cost_t</td>\n",
       "      <td>test</td>\n",
       "    </tr>\n",
       "    <tr>\n",
       "      <th>2</th>\n",
       "      <td>0</td>\n",
       "      <td>0.493586</td>\n",
       "      <td>0.728234</td>\n",
       "      <td>1</td>\n",
       "      <td>128</td>\n",
       "      <td>White__log_cost_t__train</td>\n",
       "      <td>White__log_cost_t__test</td>\n",
       "      <td>White</td>\n",
       "      <td>log_cost_t</td>\n",
       "      <td>train</td>\n",
       "      <td>White</td>\n",
       "      <td>log_cost_t</td>\n",
       "      <td>test</td>\n",
       "    </tr>\n",
       "    <tr>\n",
       "      <th>3</th>\n",
       "      <td>1</td>\n",
       "      <td>0.493587</td>\n",
       "      <td>0.728234</td>\n",
       "      <td>1</td>\n",
       "      <td>128</td>\n",
       "      <td>White__log_cost_t__train</td>\n",
       "      <td>White__log_cost_t__test</td>\n",
       "      <td>White</td>\n",
       "      <td>log_cost_t</td>\n",
       "      <td>train</td>\n",
       "      <td>White</td>\n",
       "      <td>log_cost_t</td>\n",
       "      <td>test</td>\n",
       "    </tr>\n",
       "    <tr>\n",
       "      <th>4</th>\n",
       "      <td>0</td>\n",
       "      <td>0.499620</td>\n",
       "      <td>0.728491</td>\n",
       "      <td>0</td>\n",
       "      <td>128</td>\n",
       "      <td>joint__log_cost_t__train</td>\n",
       "      <td>White__log_cost_t__test</td>\n",
       "      <td>joint</td>\n",
       "      <td>log_cost_t</td>\n",
       "      <td>train</td>\n",
       "      <td>White</td>\n",
       "      <td>log_cost_t</td>\n",
       "      <td>test</td>\n",
       "    </tr>\n",
       "  </tbody>\n",
       "</table>\n",
       "</div>"
      ],
      "text/plain": [
       "   label  s_estimands  estimands  bootstrap  sample_size  \\\n",
       "0      0     0.500326   0.715182          0          128   \n",
       "1      1     0.500325   0.715182          0          128   \n",
       "2      0     0.493586   0.728234          1          128   \n",
       "3      1     0.493587   0.728234          1          128   \n",
       "4      0     0.499620   0.728491          0          128   \n",
       "\n",
       "                   trainset                  testset demographics_train  \\\n",
       "0  White__log_cost_t__train  White__log_cost_t__test              White   \n",
       "1  White__log_cost_t__train  White__log_cost_t__test              White   \n",
       "2  White__log_cost_t__train  White__log_cost_t__test              White   \n",
       "3  White__log_cost_t__train  White__log_cost_t__test              White   \n",
       "4  joint__log_cost_t__train  White__log_cost_t__test              joint   \n",
       "\n",
       "  outcome_train subset_train demographics_test outcome_test subset_test  \n",
       "0    log_cost_t        train             White   log_cost_t        test  \n",
       "1    log_cost_t        train             White   log_cost_t        test  \n",
       "2    log_cost_t        train             White   log_cost_t        test  \n",
       "3    log_cost_t        train             White   log_cost_t        test  \n",
       "4    log_cost_t        train             White   log_cost_t        test  "
      ]
     },
     "execution_count": 9,
     "metadata": {},
     "output_type": "execute_result"
    }
   ],
   "source": [
    "df.head()"
   ]
  },
  {
   "cell_type": "code",
   "execution_count": 6,
   "metadata": {},
   "outputs": [],
   "source": [
    "from aequity.utils import post_process_estimands"
   ]
  },
  {
   "cell_type": "markdown",
   "metadata": {},
   "source": [
    "Here we see that the AUC improves from 0.69 to 0.80. This is an improvement of almost 0.10 just based on selection of the an equitable labelling and collection of the data!"
   ]
  },
  {
   "cell_type": "code",
   "execution_count": 10,
   "metadata": {},
   "outputs": [
    {
     "data": {
      "text/html": [
       "<div>\n",
       "<style scoped>\n",
       "    .dataframe tbody tr th:only-of-type {\n",
       "        vertical-align: middle;\n",
       "    }\n",
       "\n",
       "    .dataframe tbody tr th {\n",
       "        vertical-align: top;\n",
       "    }\n",
       "\n",
       "    .dataframe thead tr th {\n",
       "        text-align: left;\n",
       "    }\n",
       "</style>\n",
       "<table border=\"1\" class=\"dataframe\">\n",
       "  <thead>\n",
       "    <tr>\n",
       "      <th></th>\n",
       "      <th>auc_mean</th>\n",
       "      <th>auc_se</th>\n",
       "      <th>intervention</th>\n",
       "    </tr>\n",
       "    <tr>\n",
       "      <th></th>\n",
       "      <th></th>\n",
       "      <th></th>\n",
       "      <th></th>\n",
       "    </tr>\n",
       "  </thead>\n",
       "  <tbody>\n",
       "    <tr>\n",
       "      <th>1</th>\n",
       "      <td>0.730926</td>\n",
       "      <td>0.010338</td>\n",
       "      <td>Pre</td>\n",
       "    </tr>\n",
       "    <tr>\n",
       "      <th>2</th>\n",
       "      <td>0.814732</td>\n",
       "      <td>0.000144</td>\n",
       "      <td>Post</td>\n",
       "    </tr>\n",
       "  </tbody>\n",
       "</table>\n",
       "</div>"
      ],
      "text/plain": [
       "   auc_mean    auc_se intervention\n",
       "                                  \n",
       "1  0.730926  0.010338          Pre\n",
       "2  0.814732  0.000144         Post"
      ]
     },
     "execution_count": 10,
     "metadata": {},
     "output_type": "execute_result"
    }
   ],
   "source": [
    "demographic = \"Black\"\n",
    "n_bootstraps = 2\n",
    "outcome_pre = \"log_cost_t\"\n",
    "outcome_post = \"gagne_sum_t\"\n",
    "demographic_pre = \"Black\"\n",
    "demographic_post = \"joint\"\n",
    "\n",
    "\n",
    "intervention_df = post_process_estimands(df, demographic, n_bootstraps, outcome_pre, outcome_post, demographic_pre, demographic_post)\n",
    "intervention_df"
   ]
  },
  {
   "cell_type": "code",
   "execution_count": 11,
   "metadata": {},
   "outputs": [
    {
     "data": {
      "image/png": "[encoded data removed]",
      "text/plain": [
       "<Figure size 1000x600 with 1 Axes>"
      ]
     },
     "metadata": {},
     "output_type": "display_data"
    }
   ],
   "source": [
    "fig, ax = plt.subplots(figsize=(10,6))\n",
    "ax.bar(intervention_df['intervention'], \n",
    "       intervention_df['auc_mean'], \n",
    "       yerr=2*intervention_df['auc_se'], \n",
    "       align='center', \n",
    "       alpha=0.5, ecolor='black', capsize=10,\n",
    "        color=['red', 'green'])\n",
    "ax.set_ylabel('Test AUC (Black Patients)')\n",
    "ax.set_title('Effect of AEq intervention of Predictive Biases')\n",
    "plt.show()"
   ]
  },
  {
   "cell_type": "markdown",
   "metadata": {},
   "source": [
    "## Evaluating on other fairness metrics.\n",
    "\n",
    "While we previously evaluated on AUC, here, we show that AEq measures and mitigation steps are robust to other fairness metrics! \n",
    "\n",
    "Namely, we look at false negative rate and precision.\n",
    "\n",
    "1. **False Negative Rate**: False negative rate is determined as the ratio of false negatives to all positives $\\frac{FN}{FN+TP}$. We want a lower false negative rate because if we have more false negatives, we would be under-diagnosing a significant portion of our population. Differences in false negative rates can result in under-allocation of resources for individuals who need it. \n",
    "\n",
    "2. **Precision**: Precision is defined as $\\frac{TP}{TP + FP}$. We look at precision because in an ideal setting, we would want our precision to go up for under-represented groups because we want to have an equitable ratio of true positives to false positives to allow for maximally efficient resource allocation. "
   ]
  },
  {
   "cell_type": "code",
   "execution_count": 2,
   "metadata": {},
   "outputs": [],
   "source": [
    "preds_df = pd.read_csv(\"./mitigate/predictions.tsv\", sep=\"\\t\")"
   ]
  },
  {
   "cell_type": "code",
   "execution_count": 3,
   "metadata": {},
   "outputs": [],
   "source": [
    "from aequity.metrics import evaluate_fairness"
   ]
  },
  {
   "cell_type": "code",
   "execution_count": 4,
   "metadata": {},
   "outputs": [
    {
     "data": {
      "text/html": [
       "<div>\n",
       "<style scoped>\n",
       "    .dataframe tbody tr th:only-of-type {\n",
       "        vertical-align: middle;\n",
       "    }\n",
       "\n",
       "    .dataframe tbody tr th {\n",
       "        vertical-align: top;\n",
       "    }\n",
       "\n",
       "    .dataframe thead th {\n",
       "        text-align: right;\n",
       "    }\n",
       "</style>\n",
       "<table border=\"1\" class=\"dataframe\">\n",
       "  <thead>\n",
       "    <tr style=\"text-align: right;\">\n",
       "      <th></th>\n",
       "      <th>Intervention</th>\n",
       "      <th>precision</th>\n",
       "      <th>fnr</th>\n",
       "    </tr>\n",
       "  </thead>\n",
       "  <tbody>\n",
       "    <tr>\n",
       "      <th>0</th>\n",
       "      <td>Post</td>\n",
       "      <td>0.666667</td>\n",
       "      <td>0.001342</td>\n",
       "    </tr>\n",
       "    <tr>\n",
       "      <th>1</th>\n",
       "      <td>Pre</td>\n",
       "      <td>0.565737</td>\n",
       "      <td>0.767213</td>\n",
       "    </tr>\n",
       "  </tbody>\n",
       "</table>\n",
       "</div>"
      ],
      "text/plain": [
       "  Intervention  precision       fnr\n",
       "0         Post   0.666667  0.001342\n",
       "1          Pre   0.565737  0.767213"
      ]
     },
     "execution_count": 4,
     "metadata": {},
     "output_type": "execute_result"
    }
   ],
   "source": [
    "num_classes = 2\n",
    "demographic = \"Black\"\n",
    "n_bootstraps = 2\n",
    "outcome_pre = \"log_cost_t\"\n",
    "outcome_post = \"gagne_sum_t\"\n",
    "demographic_pre = \"Black\"\n",
    "demographic_post = \"joint\"\n",
    "\n",
    "fairness_df = evaluate_fairness(preds_df, num_classes, demographic, outcome_pre, outcome_post, demographic_pre, demographic_post)\n",
    "fairness_df.head()"
   ]
  },
  {
   "cell_type": "markdown",
   "metadata": {},
   "source": [
    "Here we see that precision increases but the false negative rate decreases! \n",
    "\n",
    "This is important because it means that \n",
    "\n",
    "1. We have **reduced under-diagnosis bias**. A lower false negative rate implies that we are catching more patients that need to be allocated resources. \n",
    "2. We are **optimally allocating resources**. A higher precision means that we are improving resource allocation for the patients we catch."
   ]
  },
  {
   "cell_type": "code",
   "execution_count": 5,
   "metadata": {},
   "outputs": [
    {
     "data": {
      "image/png": "[encoded data removed]",
      "text/plain": [
       "<Figure size 1000x600 with 2 Axes>"
      ]
     },
     "metadata": {},
     "output_type": "display_data"
    }
   ],
   "source": [
    "fig, ax = plt.subplots(1, 2, figsize=(10,6))\n",
    "ax[0].bar(fairness_df['Intervention'], \n",
    "       fairness_df['precision'],\n",
    "       align='center', \n",
    "       alpha=0.5, ecolor='black', capsize=10,\n",
    "        color=['green', 'red'])\n",
    "ax[0].set_ylabel('Precision (Black Patients)')\n",
    "ax[0].set_title('Effect of AEq intervention of Fairness')\n",
    "\n",
    "ax[1].bar(fairness_df['Intervention'], \n",
    "       fairness_df['fnr'],\n",
    "       align='center', \n",
    "       alpha=0.5, ecolor='black', capsize=10,\n",
    "        color=['green', 'red'])\n",
    "ax[1].set_ylabel('False Negative Rate (Black Patients)')\n",
    "ax[1].set_title('Effect of AEq intervention of Fairness')\n",
    "plt.show()"
   ]
  },
  {
   "cell_type": "markdown",
   "metadata": {},
   "source": [
    "## Discussion"
   ]
  },
  {
   "cell_type": "markdown",
   "metadata": {},
   "source": [
    "Here, we have presented a very elementary demo of how our method works. While we only show a demonstration of the method on simple linear models, our work **also shows improvements with very complex models** such as deep convolutional neural networks. Second, our work extends to **intersectional identities.**\n",
    "\n",
    "In summary, traditional approaches to the issue of algorithmic bias rely on post-hoc approaches which fail to address manifestations of bias at the level of datasets used to train algorithms. We present AEq, a novel, deep-learning based metric that may be valuable for disentangling and quantifying various manifestations of bias at the dataset level. We show how it can be used to suggest specific, effective mitigation measures. Finally, we demonstrate its robustness by applying it to to produce mitigation steps and measuring its effectiveness with respect to a range of traditional fairness metrics.\n",
    "\n"
   ]
  }
 ],
 "metadata": {
  "kernelspec": {
   "display_name": "Python 3.9.6 ('aequity-venv': venv)",
   "language": "python",
   "name": "python3"
  },
  "language_info": {
   "codemirror_mode": {
    "name": "ipython",
    "version": 3
   },
   "file_extension": ".py",
   "mimetype": "text/x-python",
   "name": "python",
   "nbconvert_exporter": "python",
   "pygments_lexer": "ipython3",
   "version": "3.9.6"
  },
  "vscode": {
   "interpreter": {
    "hash": "3cf3106ab3c2d213689c138e64b15329798c089212e0b8f848529584219cdaf9"
   }
  }
 },
 "nbformat": 4,
 "nbformat_minor": 2
}
